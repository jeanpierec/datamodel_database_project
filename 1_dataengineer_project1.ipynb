{
 "cells": [
  {
   "cell_type": "markdown",
   "id": "2fa74050-628b-4b72-919c-0d91ce9b288c",
   "metadata": {},
   "source": [
    "# Data engineer project"
   ]
  },
  {
   "cell_type": "markdown",
   "id": "a6089631-81b4-4cd4-8bbe-29c1b5aaa1b2",
   "metadata": {},
   "source": [
    "## 0. Libraries"
   ]
  },
  {
   "cell_type": "code",
   "execution_count": 1,
   "id": "856836f5-7df7-4576-acb3-38dda6e96b47",
   "metadata": {},
   "outputs": [],
   "source": [
    "import pandas as pd\n",
    "import psycopg2"
   ]
  },
  {
   "cell_type": "markdown",
   "id": "83c3a4b2-b3e3-466a-b558-b9250c071911",
   "metadata": {},
   "source": [
    "## 1. Functions"
   ]
  },
  {
   "cell_type": "code",
   "execution_count": 35,
   "id": "83276d05-bfad-4fb2-99b9-42931437b49d",
   "metadata": {},
   "outputs": [],
   "source": [
    "def create_db():\n",
    "    \"\"\"\n",
    "        This function create a database a setup a connection.\n",
    "        \n",
    "        Returns:\n",
    "            conn: psycopg2 connection object\n",
    "            cur: cursor\n",
    "    \"\"\"\n",
    "    # connect to default database\n",
    "    # example: conn = psycopg2.connect(\"host=localhost dbname=bd user=ljpcastroc password=password\")\n",
    "    conn = psycopg2.connect(\"host=localhost dbname=dmodeldb user=ljpcastroc password=password\")\n",
    "    conn.set_session(autocommit=True)\n",
    "    cur = conn.cursor()\n",
    "    \n",
    "    # create sparkify database with UTF8 encoding\n",
    "    cur.execute(\"DROP   DATABASE IF EXISTS accounts\")\n",
    "    cur.execute(\"CREATE DATABASE accounts\")\n",
    "    # close connection to default database\n",
    "    conn. close()\n",
    "    conn = psycopg2.connect(\"host=localhost dbname=accounts user=ljpcastroc password=password\")\n",
    "    # we'll disable this option\n",
    "    #conn.set_session(autocommit=True)\n",
    "    cur = conn.cursor()\n",
    "    \n",
    "    return cur, conn"
   ]
  },
  {
   "cell_type": "code",
   "execution_count": 3,
   "id": "513e18d1-9dfa-4697-8570-24217e8edee4",
   "metadata": {},
   "outputs": [],
   "source": [
    "def drop_tables(cur, conn):\n",
    "    \"\"\"\n",
    "        drop table with a query\n",
    "        \n",
    "        return: nothing\n",
    "    \"\"\"\n",
    "    for query in drop_table_queries:\n",
    "        cur.execute(query)\n",
    "        cur.commit()"
   ]
  },
  {
   "cell_type": "markdown",
   "id": "76a7c404-bb28-4fa8-83c0-3e182929e652",
   "metadata": {
    "tags": []
   },
   "source": [
    "## 2. Data exploration"
   ]
  },
  {
   "cell_type": "markdown",
   "id": "0bcef949-b40f-4808-9bfa-53a26e166ebb",
   "metadata": {},
   "source": [
    "### 2.1 Country dimension"
   ]
  },
  {
   "cell_type": "markdown",
   "id": "4a70f0cc-d010-42bc-aa9a-3ce4ba840af2",
   "metadata": {},
   "source": [
    "We'll select all columns."
   ]
  },
  {
   "cell_type": "code",
   "execution_count": 4,
   "id": "f33145ae-5ffb-4c66-aff8-b5e5c90a867a",
   "metadata": {},
   "outputs": [
    {
     "data": {
      "text/html": [
       "<div>\n",
       "<style scoped>\n",
       "    .dataframe tbody tr th:only-of-type {\n",
       "        vertical-align: middle;\n",
       "    }\n",
       "\n",
       "    .dataframe tbody tr th {\n",
       "        vertical-align: top;\n",
       "    }\n",
       "\n",
       "    .dataframe thead th {\n",
       "        text-align: right;\n",
       "    }\n",
       "</style>\n",
       "<table border=\"1\" class=\"dataframe\">\n",
       "  <thead>\n",
       "    <tr style=\"text-align: right;\">\n",
       "      <th></th>\n",
       "      <th>Country Code</th>\n",
       "      <th>Country Name</th>\n",
       "    </tr>\n",
       "  </thead>\n",
       "  <tbody>\n",
       "    <tr>\n",
       "      <th>0</th>\n",
       "      <td>AFE</td>\n",
       "      <td>Africa Eastern and Southern</td>\n",
       "    </tr>\n",
       "    <tr>\n",
       "      <th>1</th>\n",
       "      <td>AFW</td>\n",
       "      <td>Africa Western and Central</td>\n",
       "    </tr>\n",
       "    <tr>\n",
       "      <th>2</th>\n",
       "      <td>ARB</td>\n",
       "      <td>Arab World</td>\n",
       "    </tr>\n",
       "    <tr>\n",
       "      <th>3</th>\n",
       "      <td>CSS</td>\n",
       "      <td>Caribbean small states</td>\n",
       "    </tr>\n",
       "    <tr>\n",
       "      <th>4</th>\n",
       "      <td>CEB</td>\n",
       "      <td>Central Europe and the Baltics</td>\n",
       "    </tr>\n",
       "  </tbody>\n",
       "</table>\n",
       "</div>"
      ],
      "text/plain": [
       "  Country Code                    Country Name\n",
       "0          AFE     Africa Eastern and Southern\n",
       "1          AFW      Africa Western and Central\n",
       "2          ARB                      Arab World\n",
       "3          CSS          Caribbean small states\n",
       "4          CEB  Central Europe and the Baltics"
      ]
     },
     "execution_count": 4,
     "metadata": {},
     "output_type": "execute_result"
    }
   ],
   "source": [
    "acc_country = pd.read_csv(\"data/dimension_country.csv\")\n",
    "acc_country.head()"
   ]
  },
  {
   "cell_type": "code",
   "execution_count": 5,
   "id": "99a9d82d-2f15-4f8a-b96d-89920c5e424c",
   "metadata": {},
   "outputs": [
    {
     "data": {
      "text/plain": [
       "Index(['Country Code', 'Country Name'], dtype='object')"
      ]
     },
     "execution_count": 5,
     "metadata": {},
     "output_type": "execute_result"
    }
   ],
   "source": [
    "acc_country.columns"
   ]
  },
  {
   "cell_type": "code",
   "execution_count": 6,
   "id": "6db9c51c-ded5-4a42-a126-6a88fad7b086",
   "metadata": {},
   "outputs": [],
   "source": [
    "acc_country = acc_country.rename(columns={'Country Code': 'country_code',\n",
    "                                          'Country Name': 'country_name'})"
   ]
  },
  {
   "cell_type": "code",
   "execution_count": 7,
   "id": "1eaba7cc-8c84-418b-a451-19c156916a32",
   "metadata": {},
   "outputs": [
    {
     "name": "stdout",
     "output_type": "stream",
     "text": [
      "country_code :  3\n",
      "country_name :  52\n"
     ]
    }
   ],
   "source": [
    "for i in acc_country.columns:\n",
    "    print(i, \": \", acc_country[i].str.len().max())"
   ]
  },
  {
   "cell_type": "markdown",
   "id": "10db54c1-a603-4962-9bec-c9ad8d664b60",
   "metadata": {},
   "source": [
    "### 2.2 Indicator code dimension"
   ]
  },
  {
   "cell_type": "markdown",
   "id": "2990df16-c236-458c-8cb3-db144a1ac599",
   "metadata": {},
   "source": [
    "We'll select all columns."
   ]
  },
  {
   "cell_type": "code",
   "execution_count": 8,
   "id": "127a2873-51e2-4fac-9dc6-a81216c8937a",
   "metadata": {},
   "outputs": [
    {
     "data": {
      "text/html": [
       "<div>\n",
       "<style scoped>\n",
       "    .dataframe tbody tr th:only-of-type {\n",
       "        vertical-align: middle;\n",
       "    }\n",
       "\n",
       "    .dataframe tbody tr th {\n",
       "        vertical-align: top;\n",
       "    }\n",
       "\n",
       "    .dataframe thead th {\n",
       "        text-align: right;\n",
       "    }\n",
       "</style>\n",
       "<table border=\"1\" class=\"dataframe\">\n",
       "  <thead>\n",
       "    <tr style=\"text-align: right;\">\n",
       "      <th></th>\n",
       "      <th>Indicator Code</th>\n",
       "      <th>Indicator Name</th>\n",
       "    </tr>\n",
       "  </thead>\n",
       "  <tbody>\n",
       "    <tr>\n",
       "      <th>0</th>\n",
       "      <td>IC.BUS.DISC.XQ</td>\n",
       "      <td>Business extent of disclosure index (0=less di...</td>\n",
       "    </tr>\n",
       "    <tr>\n",
       "      <th>1</th>\n",
       "      <td>IC.CRD.INFO.XQ</td>\n",
       "      <td>Depth of credit information index (0=low to 8=...</td>\n",
       "    </tr>\n",
       "    <tr>\n",
       "      <th>2</th>\n",
       "      <td>FS.AST.PRVT.GD.ZS</td>\n",
       "      <td>Domestic credit to private sector (% of GDP)</td>\n",
       "    </tr>\n",
       "    <tr>\n",
       "      <th>3</th>\n",
       "      <td>EG.USE.ELEC.KH.PC</td>\n",
       "      <td>Electric power consumption (kWh per capita)</td>\n",
       "    </tr>\n",
       "    <tr>\n",
       "      <th>4</th>\n",
       "      <td>EG.IMP.CONS.ZS</td>\n",
       "      <td>Energy imports, net (% of energy use)</td>\n",
       "    </tr>\n",
       "  </tbody>\n",
       "</table>\n",
       "</div>"
      ],
      "text/plain": [
       "      Indicator Code                                     Indicator Name\n",
       "0     IC.BUS.DISC.XQ  Business extent of disclosure index (0=less di...\n",
       "1     IC.CRD.INFO.XQ  Depth of credit information index (0=low to 8=...\n",
       "2  FS.AST.PRVT.GD.ZS       Domestic credit to private sector (% of GDP)\n",
       "3  EG.USE.ELEC.KH.PC        Electric power consumption (kWh per capita)\n",
       "4     EG.IMP.CONS.ZS              Energy imports, net (% of energy use)"
      ]
     },
     "execution_count": 8,
     "metadata": {},
     "output_type": "execute_result"
    }
   ],
   "source": [
    "acc_indicat = pd.read_csv(\"data/dimension_indicator.csv\")\n",
    "acc_indicat.head()"
   ]
  },
  {
   "cell_type": "code",
   "execution_count": 9,
   "id": "118889b0-fe92-4869-8e58-dcbf45082513",
   "metadata": {},
   "outputs": [
    {
     "data": {
      "text/plain": [
       "Index(['Indicator Code', 'Indicator Name'], dtype='object')"
      ]
     },
     "execution_count": 9,
     "metadata": {},
     "output_type": "execute_result"
    }
   ],
   "source": [
    "acc_indicat.columns"
   ]
  },
  {
   "cell_type": "code",
   "execution_count": 10,
   "id": "a9d77d24-f0a9-4c17-936e-38a87a196d72",
   "metadata": {},
   "outputs": [],
   "source": [
    "acc_indicat = acc_indicat.rename(columns={'Indicator Code': 'indicator_code',\n",
    "                                          'Indicator Name': 'indicator_name'})"
   ]
  },
  {
   "cell_type": "code",
   "execution_count": 11,
   "id": "de1f8bfd-026c-4f54-9123-1acd9c09fbdd",
   "metadata": {},
   "outputs": [
    {
     "name": "stdout",
     "output_type": "stream",
     "text": [
      "indicator_code :  17\n",
      "indicator_name :  96\n"
     ]
    }
   ],
   "source": [
    "for i in acc_indicat.columns:\n",
    "    print(i, \": \", acc_indicat[i].str.len().max())"
   ]
  },
  {
   "cell_type": "markdown",
   "id": "0ff34ed8-54f1-4e2f-a4eb-1c0b8a25e65d",
   "metadata": {},
   "source": [
    "### 2.3 Fac table"
   ]
  },
  {
   "cell_type": "markdown",
   "id": "bd823844-729f-4f48-8d9c-cfdaf45a97b4",
   "metadata": {},
   "source": [
    "We'll select all columns."
   ]
  },
  {
   "cell_type": "code",
   "execution_count": 12,
   "id": "d8f9ea88-509f-4743-bc36-7a1d10018bca",
   "metadata": {},
   "outputs": [
    {
     "data": {
      "text/html": [
       "<div>\n",
       "<style scoped>\n",
       "    .dataframe tbody tr th:only-of-type {\n",
       "        vertical-align: middle;\n",
       "    }\n",
       "\n",
       "    .dataframe tbody tr th {\n",
       "        vertical-align: top;\n",
       "    }\n",
       "\n",
       "    .dataframe thead th {\n",
       "        text-align: right;\n",
       "    }\n",
       "</style>\n",
       "<table border=\"1\" class=\"dataframe\">\n",
       "  <thead>\n",
       "    <tr style=\"text-align: right;\">\n",
       "      <th></th>\n",
       "      <th>Country Code</th>\n",
       "      <th>Indicator Code</th>\n",
       "      <th>2000</th>\n",
       "      <th>2001</th>\n",
       "      <th>2002</th>\n",
       "      <th>2003</th>\n",
       "      <th>2004</th>\n",
       "      <th>2005</th>\n",
       "      <th>2006</th>\n",
       "      <th>2007</th>\n",
       "      <th>...</th>\n",
       "      <th>2012</th>\n",
       "      <th>2013</th>\n",
       "      <th>2014</th>\n",
       "      <th>2015</th>\n",
       "      <th>2016</th>\n",
       "      <th>2017</th>\n",
       "      <th>2018</th>\n",
       "      <th>2019</th>\n",
       "      <th>2020</th>\n",
       "      <th>2021</th>\n",
       "    </tr>\n",
       "  </thead>\n",
       "  <tbody>\n",
       "    <tr>\n",
       "      <th>0</th>\n",
       "      <td>AFE</td>\n",
       "      <td>IC.BUS.DISC.XQ</td>\n",
       "      <td>NaN</td>\n",
       "      <td>NaN</td>\n",
       "      <td>NaN</td>\n",
       "      <td>NaN</td>\n",
       "      <td>NaN</td>\n",
       "      <td>3.730769</td>\n",
       "      <td>3.730769</td>\n",
       "      <td>3.730769</td>\n",
       "      <td>...</td>\n",
       "      <td>4.230769</td>\n",
       "      <td>4.346154</td>\n",
       "      <td>4.423077</td>\n",
       "      <td>4.538462</td>\n",
       "      <td>4.692308</td>\n",
       "      <td>4.730769</td>\n",
       "      <td>4.884615</td>\n",
       "      <td>4.884615</td>\n",
       "      <td>NaN</td>\n",
       "      <td>NaN</td>\n",
       "    </tr>\n",
       "    <tr>\n",
       "      <th>1</th>\n",
       "      <td>AFE</td>\n",
       "      <td>IC.CRD.INFO.XQ</td>\n",
       "      <td>NaN</td>\n",
       "      <td>NaN</td>\n",
       "      <td>NaN</td>\n",
       "      <td>NaN</td>\n",
       "      <td>NaN</td>\n",
       "      <td>NaN</td>\n",
       "      <td>NaN</td>\n",
       "      <td>NaN</td>\n",
       "      <td>...</td>\n",
       "      <td>NaN</td>\n",
       "      <td>2.240000</td>\n",
       "      <td>2.400000</td>\n",
       "      <td>3.269231</td>\n",
       "      <td>3.769231</td>\n",
       "      <td>4.346154</td>\n",
       "      <td>4.423077</td>\n",
       "      <td>4.500000</td>\n",
       "      <td>NaN</td>\n",
       "      <td>NaN</td>\n",
       "    </tr>\n",
       "    <tr>\n",
       "      <th>2</th>\n",
       "      <td>AFE</td>\n",
       "      <td>FS.AST.PRVT.GD.ZS</td>\n",
       "      <td>74.979893</td>\n",
       "      <td>77.003130</td>\n",
       "      <td>62.432376</td>\n",
       "      <td>71.326432</td>\n",
       "      <td>80.268045</td>\n",
       "      <td>85.821854</td>\n",
       "      <td>94.990002</td>\n",
       "      <td>94.000221</td>\n",
       "      <td>...</td>\n",
       "      <td>77.608895</td>\n",
       "      <td>74.179365</td>\n",
       "      <td>72.396334</td>\n",
       "      <td>65.157383</td>\n",
       "      <td>62.907686</td>\n",
       "      <td>64.246009</td>\n",
       "      <td>65.290639</td>\n",
       "      <td>63.562336</td>\n",
       "      <td>59.744225</td>\n",
       "      <td>NaN</td>\n",
       "    </tr>\n",
       "    <tr>\n",
       "      <th>3</th>\n",
       "      <td>AFE</td>\n",
       "      <td>EG.USE.ELEC.KH.PC</td>\n",
       "      <td>780.702624</td>\n",
       "      <td>743.916044</td>\n",
       "      <td>769.080854</td>\n",
       "      <td>774.334166</td>\n",
       "      <td>777.672091</td>\n",
       "      <td>780.851052</td>\n",
       "      <td>789.487840</td>\n",
       "      <td>796.901936</td>\n",
       "      <td>...</td>\n",
       "      <td>703.908401</td>\n",
       "      <td>698.369914</td>\n",
       "      <td>686.728057</td>\n",
       "      <td>NaN</td>\n",
       "      <td>NaN</td>\n",
       "      <td>NaN</td>\n",
       "      <td>NaN</td>\n",
       "      <td>NaN</td>\n",
       "      <td>NaN</td>\n",
       "      <td>NaN</td>\n",
       "    </tr>\n",
       "    <tr>\n",
       "      <th>4</th>\n",
       "      <td>AFE</td>\n",
       "      <td>EG.IMP.CONS.ZS</td>\n",
       "      <td>-31.391070</td>\n",
       "      <td>-29.136323</td>\n",
       "      <td>-32.910884</td>\n",
       "      <td>-32.419994</td>\n",
       "      <td>-31.161816</td>\n",
       "      <td>-35.939423</td>\n",
       "      <td>-38.805789</td>\n",
       "      <td>-41.694275</td>\n",
       "      <td>...</td>\n",
       "      <td>-32.244992</td>\n",
       "      <td>-32.035007</td>\n",
       "      <td>-31.655426</td>\n",
       "      <td>NaN</td>\n",
       "      <td>NaN</td>\n",
       "      <td>NaN</td>\n",
       "      <td>NaN</td>\n",
       "      <td>NaN</td>\n",
       "      <td>NaN</td>\n",
       "      <td>NaN</td>\n",
       "    </tr>\n",
       "  </tbody>\n",
       "</table>\n",
       "<p>5 rows × 24 columns</p>\n",
       "</div>"
      ],
      "text/plain": [
       "  Country Code     Indicator Code        2000        2001        2002  \\\n",
       "0          AFE     IC.BUS.DISC.XQ         NaN         NaN         NaN   \n",
       "1          AFE     IC.CRD.INFO.XQ         NaN         NaN         NaN   \n",
       "2          AFE  FS.AST.PRVT.GD.ZS   74.979893   77.003130   62.432376   \n",
       "3          AFE  EG.USE.ELEC.KH.PC  780.702624  743.916044  769.080854   \n",
       "4          AFE     EG.IMP.CONS.ZS  -31.391070  -29.136323  -32.910884   \n",
       "\n",
       "         2003        2004        2005        2006        2007  ...  \\\n",
       "0         NaN         NaN    3.730769    3.730769    3.730769  ...   \n",
       "1         NaN         NaN         NaN         NaN         NaN  ...   \n",
       "2   71.326432   80.268045   85.821854   94.990002   94.000221  ...   \n",
       "3  774.334166  777.672091  780.851052  789.487840  796.901936  ...   \n",
       "4  -32.419994  -31.161816  -35.939423  -38.805789  -41.694275  ...   \n",
       "\n",
       "         2012        2013        2014       2015       2016       2017  \\\n",
       "0    4.230769    4.346154    4.423077   4.538462   4.692308   4.730769   \n",
       "1         NaN    2.240000    2.400000   3.269231   3.769231   4.346154   \n",
       "2   77.608895   74.179365   72.396334  65.157383  62.907686  64.246009   \n",
       "3  703.908401  698.369914  686.728057        NaN        NaN        NaN   \n",
       "4  -32.244992  -32.035007  -31.655426        NaN        NaN        NaN   \n",
       "\n",
       "        2018       2019       2020  2021  \n",
       "0   4.884615   4.884615        NaN   NaN  \n",
       "1   4.423077   4.500000        NaN   NaN  \n",
       "2  65.290639  63.562336  59.744225   NaN  \n",
       "3        NaN        NaN        NaN   NaN  \n",
       "4        NaN        NaN        NaN   NaN  \n",
       "\n",
       "[5 rows x 24 columns]"
      ]
     },
     "execution_count": 12,
     "metadata": {},
     "output_type": "execute_result"
    }
   ],
   "source": [
    "acc_fact = pd.read_csv(\"data/facttable.csv\")\n",
    "acc_fact.head()"
   ]
  },
  {
   "cell_type": "code",
   "execution_count": 13,
   "id": "fa512575-cb64-463a-8f2d-014b93ca4e51",
   "metadata": {},
   "outputs": [
    {
     "data": {
      "text/plain": [
       "Index(['Country Code', 'Indicator Code', '2000', '2001', '2002', '2003',\n",
       "       '2004', '2005', '2006', '2007', '2008', '2009', '2010', '2011', '2012',\n",
       "       '2013', '2014', '2015', '2016', '2017', '2018', '2019', '2020', '2021'],\n",
       "      dtype='object')"
      ]
     },
     "execution_count": 13,
     "metadata": {},
     "output_type": "execute_result"
    }
   ],
   "source": [
    "acc_fact.columns"
   ]
  },
  {
   "cell_type": "code",
   "execution_count": 15,
   "id": "86f62535-5eca-4680-b86d-5ba3def00d4c",
   "metadata": {},
   "outputs": [],
   "source": [
    "acc_fact = acc_fact.rename(columns={'Country Code': 'country_code',\n",
    "                                    'Indicator Code': 'indicator_code'})"
   ]
  },
  {
   "cell_type": "code",
   "execution_count": 16,
   "id": "bb9ff38d-2def-4e4a-b3fd-5501c6857ecc",
   "metadata": {},
   "outputs": [
    {
     "data": {
      "text/plain": [
       "Index(['country_code', 'indicator_code', '2000', '2001', '2002', '2003',\n",
       "       '2004', '2005', '2006', '2007', '2008', '2009', '2010', '2011', '2012',\n",
       "       '2013', '2014', '2015', '2016', '2017', '2018', '2019', '2020', '2021'],\n",
       "      dtype='object')"
      ]
     },
     "execution_count": 16,
     "metadata": {},
     "output_type": "execute_result"
    }
   ],
   "source": [
    "acc_fact.columns"
   ]
  },
  {
   "cell_type": "markdown",
   "id": "f1f64722-6231-44c5-a788-7d54052cdead",
   "metadata": {},
   "source": [
    "## 3. DB Designer"
   ]
  },
  {
   "cell_type": "markdown",
   "id": "f61c740d-b5a3-4eea-97e0-356813ccf281",
   "metadata": {},
   "source": [
    "We'll create the DB designer."
   ]
  },
  {
   "cell_type": "markdown",
   "id": "a03adec9-899c-414e-bc68-11dca1d81b6d",
   "metadata": {},
   "source": [
    "![alt text](data/db_designer.png \"image title\")"
   ]
  },
  {
   "cell_type": "markdown",
   "id": "ed00dbc4-5619-4b9f-946b-c48eaf780b77",
   "metadata": {},
   "source": [
    "### 3.1 Create queries"
   ]
  },
  {
   "cell_type": "markdown",
   "id": "dd8ddcb7-eaa3-4a64-80aa-ab940265b7da",
   "metadata": {},
   "source": [
    "#### 3.1.1 Country table"
   ]
  },
  {
   "cell_type": "code",
   "execution_count": 38,
   "id": "1af32f18-49ae-48d6-8b48-14912490a407",
   "metadata": {},
   "outputs": [],
   "source": [
    "country_create_table = (\"\"\"CREATE TABLE \"public.acc_country\" (\n",
    "                            \"country_code\" VARCHAR(3) NOT NULL,\n",
    "                            \"country_name\" VARCHAR(100),\n",
    "                            CONSTRAINT \"acc_country_pk\" PRIMARY KEY (\"country_code\")\n",
    "                        ) WITH (\n",
    "                            OIDS=FALSE\n",
    "                        )\n",
    "                        ;\"\"\")"
   ]
  },
  {
   "cell_type": "markdown",
   "id": "317edbbd-ff5d-4001-8ca9-4eee6a2ee01c",
   "metadata": {},
   "source": [
    "#### 3.1.2 Indicator table"
   ]
  },
  {
   "cell_type": "code",
   "execution_count": 39,
   "id": "2e96be9c-055c-4d51-ac41-c83ab41b05f9",
   "metadata": {},
   "outputs": [],
   "source": [
    "indicator_create_table = (\"\"\"CREATE TABLE \"public.acc_indicator\" (\n",
    "                                \"indicator_code\" VARCHAR(17) NOT NULL,\n",
    "                                \"indicator_name\" VARCHAR(100),\n",
    "                                CONSTRAINT \"acc_indicator_pk\" PRIMARY KEY (\"indicator_code\")\n",
    "                            ) WITH (\n",
    "                                OIDS=FALSE\n",
    "                            )\n",
    "                        ;\"\"\")"
   ]
  },
  {
   "cell_type": "markdown",
   "id": "197d2cf4-066a-42b2-bf58-21fddcad76dc",
   "metadata": {},
   "source": [
    "#### 3.1.3 Fact table"
   ]
  },
  {
   "cell_type": "code",
   "execution_count": 24,
   "id": "241ae777-88e1-41f6-8994-794c519676b8",
   "metadata": {},
   "outputs": [],
   "source": [
    "fact_create_table = (\"\"\"CREATE TABLE \"public.fact\" (\n",
    "                            \"country_code\" VARCHAR(3) NOT NULL,\n",
    "                            \"indicator_code\" VARCHAR(17) NOT NULL,\n",
    "                            \"2000\" DECIMAL(17,10),\n",
    "                            \"2001\" DECIMAL(17,10),\n",
    "                            \"2002\" DECIMAL(17,10),\n",
    "                            \"2003\" DECIMAL(17,10),\n",
    "                            \"2004\" DECIMAL(17,10),\n",
    "                            \"2005\" DECIMAL(17,10),\n",
    "                            \"2006\" DECIMAL(17,10),\n",
    "                            \"2007\" DECIMAL(17,10),\n",
    "                            \"2008\" DECIMAL(17,10),\n",
    "                            \"2009\" DECIMAL(17,10),\n",
    "                            \"2010\" DECIMAL(17,10),\n",
    "                            \"2011\" DECIMAL(17,10),\n",
    "                            \"2012\" DECIMAL(17,10),\n",
    "                            \"2013\" DECIMAL(17,10),\n",
    "                            \"2014\" DECIMAL(17,10),\n",
    "                            \"2015\" DECIMAL(17,10),\n",
    "                            \"2016\" DECIMAL(17,10),\n",
    "                            \"2017\" DECIMAL(17,10),\n",
    "                            \"2018\" DECIMAL(17,10),\n",
    "                            \"2019\" DECIMAL(17,10),\n",
    "                            \"2020\" DECIMAL(17,10),\n",
    "                            \"2021\" DECIMAL(17,10)\n",
    "                        ) WITH (\n",
    "                            OIDS=FALSE\n",
    "                        )\n",
    "                        ;\"\"\")"
   ]
  },
  {
   "cell_type": "markdown",
   "id": "9bb362de-156c-4b35-9062-c0748df755f4",
   "metadata": {},
   "source": [
    "#### 3.1.4 Keys"
   ]
  },
  {
   "cell_type": "code",
   "execution_count": 66,
   "id": "604552bf-9c38-4174-ae48-007f8e7ab48e",
   "metadata": {},
   "outputs": [],
   "source": [
    "key_one = (\"\"\"\n",
    "    ALTER TABLE \"public.fact\" ADD CONSTRAINT \"fact_fk0\" FOREIGN KEY (\"country_code\") REFERENCES \"public.acc_country\"(\"country_code\");\n",
    "\"\"\")"
   ]
  },
  {
   "cell_type": "code",
   "execution_count": 67,
   "id": "1ac1d18c-be16-4e62-ac6f-4e476f9add65",
   "metadata": {},
   "outputs": [],
   "source": [
    "key_two = (\"\"\"\n",
    "    ALTER TABLE \"public.fact\" ADD CONSTRAINT \"fact_fk1\" FOREIGN KEY (\"indicator_code\") REFERENCES \"public.acc_indicator\"(\"indicator_code\");\n",
    "\"\"\")"
   ]
  },
  {
   "cell_type": "markdown",
   "id": "7cad1931-4cb8-4438-a929-3abfebc76a1b",
   "metadata": {},
   "source": [
    "## 4. Run queries"
   ]
  },
  {
   "cell_type": "code",
   "execution_count": 70,
   "id": "f8095086-e34b-4404-aca9-2fbe316cd3de",
   "metadata": {},
   "outputs": [],
   "source": [
    "cur, conn = create_db()"
   ]
  },
  {
   "cell_type": "code",
   "execution_count": 71,
   "id": "d7bef5f7-e8a9-4652-a437-2a925c11b4a5",
   "metadata": {},
   "outputs": [],
   "source": [
    "cur.execute(country_create_table)\n",
    "conn.commit()"
   ]
  },
  {
   "cell_type": "code",
   "execution_count": 72,
   "id": "cfa591a2-f56f-499f-9422-0ac56cf7ac20",
   "metadata": {},
   "outputs": [],
   "source": [
    "cur.execute(indicator_create_table)\n",
    "conn.commit()"
   ]
  },
  {
   "cell_type": "code",
   "execution_count": 73,
   "id": "6e687eb6-3f87-4745-8e9a-b6722f23dd89",
   "metadata": {},
   "outputs": [],
   "source": [
    "cur.execute(fact_create_table)\n",
    "conn.commit()"
   ]
  },
  {
   "cell_type": "code",
   "execution_count": 74,
   "id": "10d2b2e0-3922-47b1-adc4-751a7cb13ff1",
   "metadata": {},
   "outputs": [],
   "source": [
    "cur.execute(key_one)\n",
    "conn.commit()"
   ]
  },
  {
   "cell_type": "code",
   "execution_count": 75,
   "id": "60b7f066-362f-4137-8586-ca7fa18c4fc4",
   "metadata": {},
   "outputs": [],
   "source": [
    "cur.execute(key_two)\n",
    "conn.commit()"
   ]
  },
  {
   "cell_type": "code",
   "execution_count": 76,
   "id": "6fd4fcaf-9626-43f6-84e9-7f9b09877fe5",
   "metadata": {},
   "outputs": [],
   "source": [
    "# Use for close connections\n",
    "\n",
    "#conn.close()\n",
    "#cur.close()"
   ]
  },
  {
   "cell_type": "code",
   "execution_count": null,
   "id": "3b7f9ca2-005f-4f07-8534-48ce9038da58",
   "metadata": {},
   "outputs": [],
   "source": []
  }
 ],
 "metadata": {
  "kernelspec": {
   "display_name": "Python 3 (ipykernel)",
   "language": "python",
   "name": "python3"
  },
  "language_info": {
   "codemirror_mode": {
    "name": "ipython",
    "version": 3
   },
   "file_extension": ".py",
   "mimetype": "text/x-python",
   "name": "python",
   "nbconvert_exporter": "python",
   "pygments_lexer": "ipython3",
   "version": "3.9.16"
  }
 },
 "nbformat": 4,
 "nbformat_minor": 5
}
