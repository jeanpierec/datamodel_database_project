{
 "cells": [
  {
   "cell_type": "markdown",
   "id": "2fa74050-628b-4b72-919c-0d91ce9b288c",
   "metadata": {},
   "source": [
    "# Data engineer project"
   ]
  },
  {
   "cell_type": "markdown",
   "id": "a6089631-81b4-4cd4-8bbe-29c1b5aaa1b2",
   "metadata": {},
   "source": [
    "## 0. Libraries"
   ]
  },
  {
   "cell_type": "code",
   "execution_count": 1,
   "id": "856836f5-7df7-4576-acb3-38dda6e96b47",
   "metadata": {},
   "outputs": [],
   "source": [
    "import pandas as pd\n",
    "import psycopg2"
   ]
  },
  {
   "cell_type": "markdown",
   "id": "83c3a4b2-b3e3-466a-b558-b9250c071911",
   "metadata": {},
   "source": [
    "## 1. Functions"
   ]
  },
  {
   "cell_type": "code",
   "execution_count": 2,
   "id": "83276d05-bfad-4fb2-99b9-42931437b49d",
   "metadata": {},
   "outputs": [],
   "source": [
    "def create_db():\n",
    "    \"\"\"\n",
    "        This function create a database a setup a connection.\n",
    "        \n",
    "        Returns:\n",
    "            conn: psycopg2 connection object\n",
    "            cur: cursor\n",
    "    \"\"\"\n",
    "    # connect to default database\n",
    "    # example: conn = psycopg2.connect(\"host=localhost dbname=bd user=ljpcastroc password=password\")\n",
    "    conn = psycopg2.connect(\"host=localhost dbname=dmodeldb user=ljpcastroc password=password\")\n",
    "    conn.set_session(autocommit=True)\n",
    "    cur = conn.cursor()\n",
    "    \n",
    "    # create sparkify database with UTF8 encoding\n",
    "    cur.execute(\"DROP   DATABASE accounts\")\n",
    "    cur.execute(\"CREATE DATABASE accounts\")\n",
    "    # close connection to default database\n",
    "    conn. close()\n",
    "    conn = psycopg2.connect(\"host=localhost dbname=accounts user=ljpcastroc password=password\")\n",
    "    # we'll disable this option\n",
    "    #conn.set_session(autocommit=True)\n",
    "    cur = conn.cursor()\n",
    "    \n",
    "    return cur, conn"
   ]
  },
  {
   "cell_type": "code",
   "execution_count": 3,
   "id": "513e18d1-9dfa-4697-8570-24217e8edee4",
   "metadata": {},
   "outputs": [],
   "source": [
    "def drop_tables(cur, conn):\n",
    "    \"\"\"\n",
    "        drop table with a query\n",
    "        \n",
    "        return: nothing\n",
    "    \"\"\"\n",
    "    for query in drop_table_queries:\n",
    "        cur.execute(query)\n",
    "        cur.commit()"
   ]
  },
  {
   "cell_type": "markdown",
   "id": "76a7c404-bb28-4fa8-83c0-3e182929e652",
   "metadata": {},
   "source": [
    "## 2. Data exploration"
   ]
  },
  {
   "cell_type": "code",
   "execution_count": null,
   "id": "f33145ae-5ffb-4c66-aff8-b5e5c90a867a",
   "metadata": {},
   "outputs": [],
   "source": []
  }
 ],
 "metadata": {
  "kernelspec": {
   "display_name": "Python 3 (ipykernel)",
   "language": "python",
   "name": "python3"
  },
  "language_info": {
   "codemirror_mode": {
    "name": "ipython",
    "version": 3
   },
   "file_extension": ".py",
   "mimetype": "text/x-python",
   "name": "python",
   "nbconvert_exporter": "python",
   "pygments_lexer": "ipython3",
   "version": "3.9.16"
  }
 },
 "nbformat": 4,
 "nbformat_minor": 5
}
